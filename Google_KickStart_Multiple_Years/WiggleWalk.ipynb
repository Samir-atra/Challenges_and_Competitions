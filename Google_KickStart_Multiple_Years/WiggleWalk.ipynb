{
 "cells": [
  {
   "cell_type": "code",
   "execution_count": 19,
   "metadata": {},
   "outputs": [
    {
     "name": "stdout",
     "output_type": "stream",
     "text": [
      "(1, 2)\n",
      "[(1, 2)]\n",
      "[(1, 2), [(1, 3)]] frome\n",
      "[(1, 2), [(1, 3)], [(1, 3), (1, 3)]] frome\n",
      "[(1, 2), [(1, 3)], [(1, 3), (1, 3)], [(1, 1), (1, 1), (1, 1)]] fromw\n",
      "[(1, 2), [(1, 3)], [(1, 3), (1, 3)], [(1, 1), (1, 1), (1, 1)], [(2, 2), (2, 2), (2, 2), (2, 2)]] fromn\n",
      "[(1, 2), [(1, 3)], [(1, 3), (1, 3)], [(1, 1), (1, 1), (1, 1)], [(2, 2), (2, 2), (2, 2), (2, 2)], [(0, 2), (0, 2), (0, 2), (0, 2), (0, 2)]] froms\n",
      "1 2\n"
     ]
    }
   ],
   "source": [
    "# got T cases\n",
    "# N number of moves\n",
    "# vertical dim R\n",
    "# horizontal dim C\n",
    "# Sr, Sc are the number of row and column of starting point \n",
    "# letters represent the directions of the robot moves\n",
    "\n",
    "\n",
    "import numpy as np\n",
    "\n",
    "\n",
    "def go_north(Sr, Sc):\n",
    "    return Sr+1, Sc\n",
    "\n",
    "def go_south(Sr, Sc):\n",
    "    return Sr-1, Sc\n",
    "\n",
    "def go_east(Sr, Sc):\n",
    "    return Sr, Sc+1\n",
    "\n",
    "def go_west(Sr, Sc):\n",
    "    return Sr, Sc-1\n",
    "\n",
    "\n",
    "T = input(\"number of cases = \")\n",
    "N, R, C, Sr, Sc = input(\"# of moves, dimensions and starting point = \").strip().split()\n",
    "directions = input(\"directions letters = \")\n",
    "s=(int(R),int(C))\n",
    "Sr = int(Sr) - 1\n",
    "Sc = int(Sc) - 1\n",
    "for t in T:\n",
    "\n",
    "    floor = np.ones((s))\n",
    "    Sp = (Sr, Sc)\n",
    "    print(Sp)\n",
    "    past = [(Sr,Sc)]\n",
    "    print(past)\n",
    "    for move in directions:\n",
    "        if move == \"N\":\n",
    "            SrN, ScN = go_north(Sr, Sc)\n",
    "            Sp = [(SrN, ScN) if np.all(past != (SrN, ScN)) else Sp == go_north(SrN, ScN) for x in past]\n",
    "            past.append((Sp))\n",
    "            print(past,\"fromn\")\n",
    "        if move == \"S\":\n",
    "            SrS, ScS = go_south(Sr, Sc)\n",
    "            Sp = [(SrS, ScS) if np.all(past != (SrS, ScS)) else Sp == go_south(SrS, ScS) for x in past]\n",
    "            past.append((Sp))\n",
    "            print(past,\"froms\")\n",
    "        if move == \"E\":\n",
    "            SrE, ScE = go_east(Sr, Sc)\n",
    "            Sp = [(SrE, ScE) if np.all(past != (SrE, ScE)) else Sp == go_east(SrE, ScE) for x in past]\n",
    "            past.append((Sp))\n",
    "            print(past,\"frome\")\n",
    "        if move == \"W\":\n",
    "            SrW, ScW = go_west(Sr, Sc)\n",
    "            Sp = [(SrW, ScW) if np.all(past != (SrW, ScW)) else Sp == go_west(SrW, ScW) for x in past]\n",
    "            past.append((Sp))\n",
    "            print(past, \"fromw\")\n",
    "    print(Sr, Sc)\n",
    "\n",
    "\n",
    "\n",
    "# 5 3 6 2 3\n",
    "# EEWNS\n",
    "# 4 3 3 1 1\n",
    "# SESE"
   ]
  }
 ],
 "metadata": {
  "kernelspec": {
   "display_name": "Python 3.9.7 ('base')",
   "language": "python",
   "name": "python3"
  },
  "language_info": {
   "codemirror_mode": {
    "name": "ipython",
    "version": 3
   },
   "file_extension": ".py",
   "mimetype": "text/x-python",
   "name": "python",
   "nbconvert_exporter": "python",
   "pygments_lexer": "ipython3",
   "version": "3.9.7"
  },
  "orig_nbformat": 4,
  "vscode": {
   "interpreter": {
    "hash": "d4de0671d8054c88a8842951ed8f6115b974e2e5b39cbc2553be5a6678282e63"
   }
  }
 },
 "nbformat": 4,
 "nbformat_minor": 2
}
