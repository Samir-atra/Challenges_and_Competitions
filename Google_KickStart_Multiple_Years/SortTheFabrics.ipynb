{
 "cells": [
  {
   "cell_type": "code",
   "execution_count": 25,
   "metadata": {},
   "outputs": [
    {
     "name": "stdout",
     "output_type": "stream",
     "text": [
      "Case #0: 2\n",
      "Case #1: 0\n"
     ]
    }
   ],
   "source": [
    "# start by inputing data \n",
    "# find if it was equal according to color alphabet and durability \n",
    "\n",
    "\n",
    "\n",
    "def getcase(fn):\n",
    "    colors = []\n",
    "    durabilities = []\n",
    "    idee = []\n",
    "\n",
    "    \n",
    "    for n in range (fn):\n",
    "\n",
    "        c = input(\"fabric details\").split()\n",
    "        colors.append((n, c[0]))\n",
    "        durabilities.append((n, c[1]))\n",
    "        idee.append((n, c[2]))\n",
    "    colors.sort()\n",
    "    durabilities.sort()\n",
    "    idee.sort()\n",
    "    return colors, durabilities, idee\n",
    "\n",
    "def main(fn, k):\n",
    "    x = getcase(fn)\n",
    "    if x[0][0][1] == x[0][1][1] and x[1][0][1] == x[1][1][1]:\n",
    "        print(f\"Case #{k}: {2}\")\n",
    "    else:\n",
    "        print(f\"Case #{k}: {0}\")\n",
    "\n",
    "\n",
    "\n",
    "I = int(input(\"Number of cases\"))\n",
    "for k in range(I):\n",
    "    fn = int(input(\"number of fabrics\"))\n",
    "    x = main(fn, k)\n",
    "\n",
    "\n",
    "# blue 2 1\n",
    "# yellow 1 2\n",
    "# brown 2 2\n",
    "\n"
   ]
  }
 ],
 "metadata": {
  "kernelspec": {
   "display_name": "Python 3.9.7 ('base')",
   "language": "python",
   "name": "python3"
  },
  "language_info": {
   "codemirror_mode": {
    "name": "ipython",
    "version": 3
   },
   "file_extension": ".py",
   "mimetype": "text/x-python",
   "name": "python",
   "nbconvert_exporter": "python",
   "pygments_lexer": "ipython3",
   "version": "3.9.7"
  },
  "orig_nbformat": 4,
  "vscode": {
   "interpreter": {
    "hash": "d4de0671d8054c88a8842951ed8f6115b974e2e5b39cbc2553be5a6678282e63"
   }
  }
 },
 "nbformat": 4,
 "nbformat_minor": 2
}
