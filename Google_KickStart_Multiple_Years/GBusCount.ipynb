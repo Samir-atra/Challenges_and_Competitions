{
 "cells": [
  {
   "cell_type": "code",
   "execution_count": 23,
   "metadata": {},
   "outputs": [
    {
     "name": "stdout",
     "output_type": "stream",
     "text": [
      "1\n",
      "Case #1: 0\n"
     ]
    }
   ],
   "source": [
    "# N number of buses\n",
    "# Ai, Bi which sets the limits of the buses (inclusive)\n",
    "# P number of cities to be accessed\n",
    "# Ci number of interesting city\n",
    "\n",
    "# for output:\n",
    "#     the number of buses serves the Ci city\n",
    "\n",
    "T = int(input(\"number of cases = \"))\n",
    "N = int(input(\"number of buses = \"))\n",
    "AB = [int(i) for i in list(input(\"buses limits = \").strip().split())]\n",
    "P = input(\"number of interesting cities = \")\n",
    "\n",
    "def tuples(AB):\n",
    "    retur = []\n",
    "    for i in AB:\n",
    "        if i ==0 or (i % 2)==0: \n",
    "            x = tuple((i, i+1))\n",
    "            retur.append(x)\n",
    "        else:\n",
    "            continue\n",
    "    return retur\n",
    "\n",
    "def cities(P):\n",
    "    cities = []\n",
    "    for i in range(P):\n",
    "        e = int(input(f\"interesting city {i}\"))\n",
    "        cities.append(e)\n",
    "    return cities\n",
    "\n",
    "def main(N, AB, P):\n",
    "    output = []\n",
    "    print(P)\n",
    "    P = int(P)\n",
    "    limits = tuples(AB)\n",
    "    citie = cities(P)\n",
    "    for city in range(P):\n",
    "        citybuses = 0\n",
    "        for bus in range(N):\n",
    "            if citie[city] in range(limits[bus][0],limits[bus][1]):\n",
    "                citybuses += 1\n",
    "        output.append(citybuses)\n",
    "    return output\n",
    "\n",
    "output = main(N, AB, P)\n",
    "print(f\"Case #{T}: {output[T - 1]}\")\n",
    "\n",
    "\n"
   ]
  }
 ],
 "metadata": {
  "kernelspec": {
   "display_name": "Python 3.9.7 ('base')",
   "language": "python",
   "name": "python3"
  },
  "language_info": {
   "codemirror_mode": {
    "name": "ipython",
    "version": 3
   },
   "file_extension": ".py",
   "mimetype": "text/x-python",
   "name": "python",
   "nbconvert_exporter": "python",
   "pygments_lexer": "ipython3",
   "version": "3.9.7"
  },
  "orig_nbformat": 4,
  "vscode": {
   "interpreter": {
    "hash": "d4de0671d8054c88a8842951ed8f6115b974e2e5b39cbc2553be5a6678282e63"
   }
  }
 },
 "nbformat": 4,
 "nbformat_minor": 2
}
